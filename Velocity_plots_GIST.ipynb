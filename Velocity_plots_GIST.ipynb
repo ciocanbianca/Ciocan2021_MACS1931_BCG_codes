{
 "cells": [
  {
   "cell_type": "markdown",
   "metadata": {},
   "source": [
    "This jupyter notebook contains some of the codes and calculations associated with our recent paper: \n",
    "\n",
    "**\"The VLT-MUSE and ALMA view of the MACS 1931.8-2635 brightest cluster galaxy\"** \n",
    "\n",
    "Ciocan B. I. , Ziegler, B. L. , Verdugo, M. , Papaderos, P. , Fogarty, K. , Donahue, M. , and Postman, M."
   ]
  },
  {
   "cell_type": "markdown",
   "metadata": {},
   "source": [
    "## How to make nice stellar velocity and dispersion maps from output of GIST pipeline (Bittner et al. 2019) "
   ]
  },
  {
   "cell_type": "code",
   "execution_count": 1,
   "metadata": {},
   "outputs": [],
   "source": [
    "import glob\n",
    "import numpy as np\n",
    "from astropy.io import fits\n",
    "from astropy.table import Table\n",
    "from astropy.wcs import WCS\n",
    "import matplotlib.pyplot as plt\n",
    "from mpdaf.obj import Cube, Image\n",
    "import os"
   ]
  },
  {
   "cell_type": "markdown",
   "metadata": {},
   "source": [
    "Read in table with output from *Voronoi binning* routine"
   ]
  },
  {
   "cell_type": "code",
   "execution_count": 2,
   "metadata": {},
   "outputs": [],
   "source": [
    "data_dir = \"/Users/biancaciocan/Documents/GIST_pipeline/gistTutorial/results/subcubeBCGMACSJ1931corr_ELODIEUVsnrmin10max50vorotherz/\"\n",
    "data_file = \"subcubeBCGMACSJ1931corr_table.fits\"\n",
    "table_bins = Table.read(os.path.join(data_dir, data_file))\n",
    "\n",
    "BIN_ID = table_bins[\"BIN_ID\"]\n",
    "X = table_bins[\"X\"]\n",
    "Y = table_bins[\"Y\"]\n",
    "XBIN = table_bins[\"XBIN\"]\n",
    "YBIN = table_bins[\"YBIN\"]\n",
    "SNR = table_bins[\"SNR\"]\n",
    "flux = table_bins[\"FLUX\"]"
   ]
  },
  {
   "cell_type": "markdown",
   "metadata": {},
   "source": [
    "read in table with output from *ppxf*\n",
    "\n"
   ]
  },
  {
   "cell_type": "code",
   "execution_count": 3,
   "metadata": {},
   "outputs": [],
   "source": [
    "data_file = \"subcubeBCGMACSJ1931corr_ppxf.fits\"\n",
    "vel_table = Table.read(os.path.join(data_dir, data_file))\n",
    "\n",
    "BINS = vel_table[\"BIN_ID\"]\n",
    "VEL = vel_table[\"V\"]\n",
    "SIG = vel_table[\"SIGMA\"]\n",
    "VEL_center = vel_table[\"V\"][BINS==0]\n",
    "\n",
    "#normalise to centre\n",
    "VEL = VEL - VEL_center\n",
    "\n",
    "#delete outlier bins\n",
    "VEL[BINS==12] = 0\n",
    "VEL[BINS==7] = 0"
   ]
  },
  {
   "cell_type": "markdown",
   "metadata": {},
   "source": [
    "read in white ligh-image of the sub-cube and fill it in with new info from the 2 tables from above"
   ]
  },
  {
   "cell_type": "code",
   "execution_count": 4,
   "metadata": {},
   "outputs": [],
   "source": [
    "data_dir = \"/Users/biancaciocan/Documents/M1931_BCG_PROJECT/M1931_results_FADO_python/\"\n",
    "data_file = \"subcube_BCG_MACSJ1931_corr_image_Miguel.fits\"\n",
    "\n",
    "hdu=fits.open(os.path.join(data_dir, data_file))\n",
    "data = hdu[0].data\n",
    "header=hdu[0].header\n",
    "\n",
    "\n",
    "image_vel = np.zeros(shape=data.shape)\n",
    "\n",
    "pixel_size = 0.2\n",
    "\n",
    "for b, v in zip(BINS, VEL):\n",
    "    x = X[BIN_ID == b]\n",
    "    y = Y[BIN_ID == b]\n",
    "    i = np.round(x / pixel_size + 37).astype(int)\n",
    "    j = np.round(y / pixel_size + 45).astype(int)\n",
    "    image_vel[j, i] = v\n",
    "    \n",
    "# here 37 and 45 are the pixel positions of the centre\n",
    "\n"
   ]
  },
  {
   "cell_type": "markdown",
   "metadata": {},
   "source": [
    "Save the new image as fits file"
   ]
  },
  {
   "cell_type": "code",
   "execution_count": 5,
   "metadata": {},
   "outputs": [],
   "source": [
    "data = image_vel\n",
    "newhdu = fits.PrimaryHDU(data=data, header=header) \n",
    "newhdu.writeto(\"stellar_vel_binned.fits\", overwrite=True)"
   ]
  },
  {
   "cell_type": "markdown",
   "metadata": {},
   "source": [
    "plot the new image and save it as a fits file"
   ]
  },
  {
   "cell_type": "code",
   "execution_count": 6,
   "metadata": {},
   "outputs": [
    {
     "data": {
      "text/plain": [
       "<matplotlib.legend.Legend at 0x7ff49d60bf10>"
      ]
     },
     "execution_count": 6,
     "metadata": {},
     "output_type": "execute_result"
    },
    {
     "data": {
      "image/png": "[encoded data removed]",
      "text/plain": [
       "<Figure size 720x720 with 2 Axes>"
      ]
     },
     "metadata": {
      "needs_background": "light"
     },
     "output_type": "display_data"
    }
   ],
   "source": [
    "a = fits.open(\"stellar_vel_binned.fits\")\n",
    "data = a[0].data\n",
    "header = a[0].header\n",
    "wcs = WCS(header)\n",
    "\n",
    "p_center = 37\n",
    "q_center = 45\n",
    "\n",
    "\n",
    "\n",
    "fig = plt.figure(figsize=(10,10))\n",
    "plt.subplot(projection=wcs)\n",
    "cm = plt.cm.get_cmap('coolwarm')\n",
    "ax = plt.imshow(data, origin=\"lower\", cmap=cm, vmin=-200, vmax=200)\n",
    "cbar = plt.colorbar(ax)\n",
    "cbar.set_label(r\" [km/s]\", fontsize=16)\n",
    "plt.title(\"Stellar velocity\")\n",
    "plt.xlabel(\"RA\", fontsize=15)\n",
    "plt.ylabel(\"DEC\", fontsize=15)\n",
    "plt.hlines(y=5, xmin=5, xmax=15, linewidth=2, color='black')\n",
    "plt.scatter(5,5, marker=2, color='black')\n",
    "plt.scatter(5,5, marker=3, color='black')\n",
    "plt.scatter(15,5, marker=2, color='black')\n",
    "plt.scatter(15,5, marker=3, color='black')\n",
    "plt.text(7.5, 6, '10 kpc', style='italic')\n",
    "agn = plt.scatter(p_center,q_center, marker='x',color='black',linewidth=1, s=50,label='AGN')\n",
    "plt.legend(handles=[agn], loc=\"upper left\")\n",
    "\n",
    "\n"
   ]
  }
 ],
 "metadata": {
  "kernelspec": {
   "display_name": "Python 3",
   "language": "python",
   "name": "python3"
  },
  "language_info": {
   "codemirror_mode": {
    "name": "ipython",
    "version": 3
   },
   "file_extension": ".py",
   "mimetype": "text/x-python",
   "name": "python",
   "nbconvert_exporter": "python",
   "pygments_lexer": "ipython3",
   "version": "3.8.1"
  }
 },
 "nbformat": 4,
 "nbformat_minor": 4
}
