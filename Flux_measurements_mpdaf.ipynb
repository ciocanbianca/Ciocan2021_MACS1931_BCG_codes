{
 "cells": [
  {
   "cell_type": "markdown",
   "metadata": {},
   "source": [
    "This jupyter notebook contains some of the codes and calculations associated with our recent paper: \"The VLT-MUSE and ALMA view of the MACS 1931.8-2635 brightest cluster galaxy\" -Ciocan B. I. , Ziegler, B. L. , Verdugo, M. , Papaderos, P. , Fogarty, K. , Donahue, M. , and Postman, M."
   ]
  },
  {
   "cell_type": "markdown",
   "metadata": {},
   "source": [
    "# How to measure fluxes of emission lines from a galaxy spectrum using MPDAF"
   ]
  },
  {
   "cell_type": "code",
   "execution_count": 5,
   "metadata": {},
   "outputs": [],
   "source": [
    "import numpy as np\n",
    "from mpdaf.obj import Spectrum, Cube, WaveCoord, iter_spe\n",
    "import matplotlib.pyplot as plt\n",
    "from astropy.io import fits\n",
    "from astropy.table import Table,join\n"
   ]
  },
  {
   "cell_type": "markdown",
   "metadata": {},
   "source": [
    "load your MUSE data cube and extract a sub-cube centered on the object of interest"
   ]
  },
  {
   "cell_type": "code",
   "execution_count": 19,
   "metadata": {},
   "outputs": [],
   "source": [
    "cube = Cube('/Users/biancaciocan/Documents/M1931_BCG_PROJECT/M1931_results_FADO_python/DATACUBE_FINAL_stacked_pycombine.fits', ext=[1,2])\n",
    "sub_cube = cube.subcube_circle_aperture(center=(-26.5761075,292.9568383), radius=9)\n",
    "#...extract each spaxel of sub_cube as spectrum...\n",
    "#example how to extract a spectra from each spaxel in other notebook)"
   ]
  },
  {
   "cell_type": "markdown",
   "metadata": {},
   "source": [
    "de-redshift all the spaxel - spectra <br>\n",
    "function to deredshift spec:"
   ]
  },
  {
   "cell_type": "code",
   "execution_count": 20,
   "metadata": {},
   "outputs": [],
   "source": [
    "def redshift_corr(spectrum, z):\n",
    "    \"\"\"\n",
    "    spectrum: a mpdaf.obj.Spectrum object (passed by e.g. Spectrum(filename) )\n",
    "    z: the redshift\n",
    "    \n",
    "    Returns\n",
    "    ---\n",
    "    a mpdaf.obj.Spectrum object de-redshifted\n",
    "    \"\"\"\n",
    "    _sp = spectrum.copy()\n",
    "    crval =  _sp.get_start() / (1+z)\n",
    "    cdelt = _sp.get_step() / (1+z)\n",
    "    wave_coor = WaveCoord( crpix=1.0, cdelt=cdelt, crval=crval)\n",
    "    _sp.set_wcs(wave=wave_coor)\n",
    "    \n",
    "    return _sp"
   ]
  },
  {
   "cell_type": "markdown",
   "metadata": {},
   "source": [
    "Read in yor table with redshift information for each spaxel of the data cube (redshift output from FADO). \n",
    "However, if not available, just use redshift of cluster centre"
   ]
  },
  {
   "cell_type": "code",
   "execution_count": 17,
   "metadata": {},
   "outputs": [],
   "source": [
    "table= Table.read(\"/Users/biancaciocan/Documents/M1931_BCG_PROJECT/M1931_results_FADO_python/redshift_list.txt\", delimiter=\" \",format='ascii', guess=False)\n",
    "p=table[\"1\"]\n",
    "q=table[\"2\"]\n",
    "redshift=table[\"z\"]"
   ]
  },
  {
   "cell_type": "markdown",
   "metadata": {},
   "source": [
    "iterate through all spec to make redshift corr <br>\n"
   ]
  },
  {
   "cell_type": "code",
   "execution_count": null,
   "metadata": {},
   "outputs": [],
   "source": [
    "for sp,pos in iter_spe(sub_cube, index=True):\t\n",
    "    p,q = pos\n",
    "    filename_derredened ='spec_wcs1d_p_'+str(p)+'q'+str(q)+'_der.fits'\n",
    "    spectrum_original=Spectrum(filename_derredened ,ext=[0,1])\n",
    "    z=redshift\n",
    "    spectrum_deredshifted=redshift_corr(spectrum_original, z)\n",
    "    spectrum_deredshifted.write('spec_wcs1d_p_'+str(p)+'q'+str(q)+'_der_der.fits')"
   ]
  },
  {
   "cell_type": "markdown",
   "metadata": {},
   "source": [
    "Now all the spectra are de-redshifted, so that the emission lines fall at their rest-wavelength. <br>\n",
    "Let's measure the flux of the [OII] $\\lambda$ 3727 emission line and save the measurements in a txt file.  "
   ]
  },
  {
   "cell_type": "code",
   "execution_count": null,
   "metadata": {},
   "outputs": [],
   "source": [
    "with open('OII.txt',\"w+\") as file:\n",
    "    file.write('#  y   x   lpeak  peak  flux  fwhm  cont err_lpeak  err_peak  err_flux  err_ fwhm \\n')\n",
    "\n",
    "    for sp,pos in iter_spe(sub_cube, index=True):\n",
    "         p,q = pos\n",
    "\n",
    "         try:\n",
    "              OII = sp.gauss_fit(lmin=3710, lmax=3750, unit=u.angstrom )\n",
    "              file.write('{0} {1} {2} {3} {4} {5} {6} {7} {8} {9} {10} \\n'.format(p,q,OII.lpeak, OII.peak, OII.flux, OII.fwhm, OII.cont, OII.err_lpeak, OII.err_peak, OII.err_flux, OII.err_fwhm))\n",
    "\n",
    "         except ValueError:\n",
    "\n",
    "              file.write('{0} {1} {2} {3} {4} {5} {6} {7} {8} {9} {10} \\n'.format(p,q,str(-99.99), str(-99.99), str(-99.99), str(-99.99), str(-99.99), str(-99.99), str(-99.99), str(-99.99), str(-99.99)))\n"
   ]
  }
 ],
 "metadata": {
  "kernelspec": {
   "display_name": "Python 3",
   "language": "python",
   "name": "python3"
  },
  "language_info": {
   "codemirror_mode": {
    "name": "ipython",
    "version": 3
   },
   "file_extension": ".py",
   "mimetype": "text/x-python",
   "name": "python",
   "nbconvert_exporter": "python",
   "pygments_lexer": "ipython3",
   "version": "3.8.1"
  }
 },
 "nbformat": 4,
 "nbformat_minor": 4
}
